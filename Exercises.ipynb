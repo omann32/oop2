{
 "cells": [
  {
   "cell_type": "markdown",
   "metadata": {},
   "source": [
    "#### Exercise 1 - Class Inheritance"
   ]
  },
  {
   "cell_type": "markdown",
   "metadata": {},
   "source": [
    "Create an Employee class that sets an employee's first name, last name, job title, salary, and email. The Employee class should have a class attribute for the raise amount set to 5% (1.05). Create a method that will apply the raise to an employee's salary."
   ]
  },
  {
   "cell_type": "code",
   "execution_count": 64,
   "metadata": {},
   "outputs": [
    {
     "name": "stdout",
     "output_type": "stream",
     "text": [
      "800000\n",
      "840000\n"
     ]
    }
   ],
   "source": [
    "class Employee():\n",
    "    raise_amount = 1.05\n",
    "    \n",
    "    def __init__(self, first_name, last_name, title, salary, email):\n",
    "        self.first_name = first_name\n",
    "        self.last_name = last_name\n",
    "        self.title = title\n",
    "        self.salary = salary\n",
    "        self.email = email\n",
    "        \n",
    "    def apply_raise(self):\n",
    "        self.salary = int(self.salary * self.raise_amount)\n",
    "        \n",
    "\n",
    "\n",
    "        \n",
    "        \n",
    "        \n",
    "        \n",
    "emp_1 = Employee('Mike', 'Jones', 'director', 800000, 'm@jones.com')\n",
    "\n",
    "print(emp_1.salary)\n",
    "emp_1.apply_raise()\n",
    "print(emp_1.salary)"
   ]
  },
  {
   "cell_type": "markdown",
   "metadata": {},
   "source": [
    "Create two more classes that inherit from the Employee class. One for Sales and one for Development. Both of these classes will have the same attributes as the Employee.<br>\n",
    "- For the Sales employees, add a phone number attribute on instantiation using the super method. \n",
    "- Create a method on the Sales class that will Send a Follow Up Email. It should take in a customer name and \"send\" aka print a formatted email \"Dear *customer*, Thank you for your interest in our product. Please let me know if you have any questions. My email is *email* or my phone number is *phone number*. Thanks, *full name*\"\n",
    "- Create a method on the Development class called code that will print out \"*full name* is writing code\"."
   ]
  },
  {
   "cell_type": "code",
   "execution_count": 77,
   "metadata": {},
   "outputs": [
    {
     "name": "stdout",
     "output_type": "stream",
     "text": [
      "Dear Jimmys, Thank you for your interest in our product. Please let me know if you have any questions. My email is m@jones.com or my phone number is 281-330-8004. Thanks, Mike, Jones\n"
     ]
    }
   ],
   "source": [
    "\n",
    "        \n",
    "        \n",
    "class Sales(Employee):\n",
    "    \n",
    "    def __init__(self, first_name, last_name, title, salary, email, number):\n",
    "        super().__init__(first_name, last_name, title, salary, email)\n",
    "        self.number = number\n",
    "        self.cust_name = cust_name\n",
    "        \n",
    "    def send_email(self, cust_name):\n",
    "        \n",
    "        return(f\"Dear {cust_name}, Thank you for your interest in our product. Please let me know if you have any questions. My email is {self.email} or my phone number is {self.number}. Thanks, {self.first_name}, {self.last_name}\")\n",
    "    \n",
    "        \n",
    "\n",
    "        \n",
    "class Development(Employee):\n",
    "    \n",
    "    def __init__(self, first_name, last_name, title, salary, email):\n",
    "        super().__init__(first_name, last_name, title, salary, email)\n",
    "\n",
    "\n",
    "emp_2 = Sales('Mike', 'Jones', 'director', 100000, 'm@jones.com', \"281-330-8004\")\n",
    "\n",
    "print(emp_2.send_email(\"Jimmys\"))\n",
    "\n"
   ]
  },
  {
   "cell_type": "markdown",
   "metadata": {},
   "source": [
    "- Create an instance of a Sales Employee with a salary of $50,000.\n",
    "- Send follow up emails to \"Mike O'Neil\" and \"Hannah Stern\"\n",
    "- Give the employee a raise and print the salary"
   ]
  },
  {
   "cell_type": "code",
   "execution_count": 74,
   "metadata": {},
   "outputs": [
    {
     "name": "stdout",
     "output_type": "stream",
     "text": [
      "Dear Mike O'Neil, Thank you for your interest in our product. Please let me know if you have any questions. My email is m@jones.com or my phone number is 281-330-8004. Thanks, Mike, Jones\n",
      "Dear Hannah Stern, Thank you for your interest in our product. Please let me know if you have any questions. My email is m@jones.com or my phone number is 281-330-8004. Thanks, Mike, Jones\n",
      "52500\n"
     ]
    }
   ],
   "source": [
    "emp_3 = Sales('Mike', 'Jones', 'director', 50000, 'm@jones.com', \"281-330-8004\")\n",
    "print(emp_3.send_email(\"Mike O'Neil\"))\n",
    "print(emp_3.send_email(\"Hannah Stern\"))\n",
    "emp_3.apply_raise()\n",
    "print(emp_3.salary)\n"
   ]
  },
  {
   "cell_type": "markdown",
   "metadata": {},
   "source": [
    "- Create an instance of a Development Employee with a salary of $100,000\n",
    "- Write some code with this employee\n",
    "- Give the employee a raise and print the salary"
   ]
  },
  {
   "cell_type": "code",
   "execution_count": 75,
   "metadata": {},
   "outputs": [
    {
     "ename": "TypeError",
     "evalue": "__init__() takes 6 positional arguments but 7 were given",
     "output_type": "error",
     "traceback": [
      "\u001b[0;31m---------------------------------------------------------------------------\u001b[0m",
      "\u001b[0;31mTypeError\u001b[0m                                 Traceback (most recent call last)",
      "\u001b[0;32m/var/folders/9q/vf5xywfx699djf5s86qnr6xc0000gn/T/ipykernel_15177/3481355232.py\u001b[0m in \u001b[0;36m<module>\u001b[0;34m\u001b[0m\n\u001b[0;32m----> 1\u001b[0;31m \u001b[0memp_4\u001b[0m \u001b[0;34m=\u001b[0m \u001b[0mDevelopment\u001b[0m\u001b[0;34m(\u001b[0m\u001b[0;34m'Mike'\u001b[0m\u001b[0;34m,\u001b[0m \u001b[0;34m'Jones'\u001b[0m\u001b[0;34m,\u001b[0m \u001b[0;34m'director'\u001b[0m\u001b[0;34m,\u001b[0m \u001b[0;36m100000\u001b[0m\u001b[0;34m,\u001b[0m \u001b[0;34m'm@jones.com'\u001b[0m\u001b[0;34m,\u001b[0m \u001b[0;34m\"281-330-8004\"\u001b[0m\u001b[0;34m)\u001b[0m\u001b[0;34m\u001b[0m\u001b[0;34m\u001b[0m\u001b[0m\n\u001b[0m\u001b[1;32m      2\u001b[0m \u001b[0memp_4\u001b[0m\u001b[0;34m.\u001b[0m\u001b[0mapply_raise\u001b[0m\u001b[0;34m(\u001b[0m\u001b[0;34m)\u001b[0m\u001b[0;34m\u001b[0m\u001b[0;34m\u001b[0m\u001b[0m\n\u001b[1;32m      3\u001b[0m \u001b[0mprint\u001b[0m\u001b[0;34m(\u001b[0m\u001b[0memp_4\u001b[0m\u001b[0;34m.\u001b[0m\u001b[0msalary\u001b[0m\u001b[0;34m)\u001b[0m\u001b[0;34m\u001b[0m\u001b[0;34m\u001b[0m\u001b[0m\n",
      "\u001b[0;31mTypeError\u001b[0m: __init__() takes 6 positional arguments but 7 were given"
     ]
    }
   ],
   "source": [
    "emp_4 = Development('Mike', 'Jones', 'director', 100000, 'm@jones.com', \"281-330-8004\")\n",
    "emp_4.apply_raise()\n",
    "print(emp_4.salary)"
   ]
  },
  {
   "cell_type": "markdown",
   "metadata": {},
   "source": [
    "#### Exercise 2 - Importing Modules"
   ]
  },
  {
   "cell_type": "markdown",
   "metadata": {},
   "source": [
    "In VS Code, create a module titled `geometry` and add two functions in there. One that will calculate the area of a circle given a radius. The second will find the hypotenuse of a right angle given the two sides. Import the module or the functions from the module and use it to find the answers to the below questions"
   ]
  },
  {
   "cell_type": "markdown",
   "metadata": {},
   "source": [
    "What is the area of a circle with a radius of 7cm?"
   ]
  },
  {
   "cell_type": "code",
   "execution_count": 82,
   "metadata": {},
   "outputs": [
    {
     "data": {
      "text/plain": [
       "153.93804002589985"
      ]
     },
     "execution_count": 82,
     "metadata": {},
     "output_type": "execute_result"
    }
   ],
   "source": [
    "from geometry import math\n",
    "\n",
    "def circle_area(radius):\n",
    "    return math.pi * radius ** 2\n",
    "\n",
    "\n",
    "circle_area(7)"
   ]
  },
  {
   "cell_type": "markdown",
   "metadata": {},
   "source": [
    "What is the hypotenuse of a right angle with sides of 3in and 4in?"
   ]
  },
  {
   "cell_type": "code",
   "execution_count": 87,
   "metadata": {},
   "outputs": [
    {
     "name": "stdout",
     "output_type": "stream",
     "text": [
      "5.0\n"
     ]
    }
   ],
   "source": [
    "from math import hypot\n",
    "\n",
    "\n",
    "def hypotenuse(a,b):\n",
    "    return math.hypot(a,b)\n",
    "\n",
    "\n",
    "\n",
    "print(hypotenuse(3,4))\n"
   ]
  },
  {
   "cell_type": "code",
   "execution_count": null,
   "metadata": {},
   "outputs": [],
   "source": []
  }
 ],
 "metadata": {
  "kernelspec": {
   "display_name": "Python 3 (ipykernel)",
   "language": "python",
   "name": "python3"
  },
  "language_info": {
   "codemirror_mode": {
    "name": "ipython",
    "version": 3
   },
   "file_extension": ".py",
   "mimetype": "text/x-python",
   "name": "python",
   "nbconvert_exporter": "python",
   "pygments_lexer": "ipython3",
   "version": "3.9.7"
  }
 },
 "nbformat": 4,
 "nbformat_minor": 4
}
